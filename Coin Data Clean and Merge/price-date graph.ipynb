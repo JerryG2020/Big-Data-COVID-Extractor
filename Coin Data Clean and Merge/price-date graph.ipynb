{
 "cells": [
  {
   "cell_type": "code",
   "execution_count": 4,
   "metadata": {},
   "outputs": [],
   "source": [
    "import pandas as pd\n",
    "import numpy as np\n",
    "%matplotlib inline\n",
    "import matplotlib.pyplot as plt\n",
    "from datetime import datetime"
   ]
  },
  {
   "cell_type": "code",
   "execution_count": 5,
   "metadata": {},
   "outputs": [],
   "source": [
    "df = pd.read_csv(\"coins.csv\")"
   ]
  },
  {
   "cell_type": "code",
   "execution_count": 6,
   "metadata": {},
   "outputs": [
    {
     "data": {
      "text/html": [
       "<div>\n",
       "<style scoped>\n",
       "    .dataframe tbody tr th:only-of-type {\n",
       "        vertical-align: middle;\n",
       "    }\n",
       "\n",
       "    .dataframe tbody tr th {\n",
       "        vertical-align: top;\n",
       "    }\n",
       "\n",
       "    .dataframe thead th {\n",
       "        text-align: right;\n",
       "    }\n",
       "</style>\n",
       "<table border=\"1\" class=\"dataframe\">\n",
       "  <thead>\n",
       "    <tr style=\"text-align: right;\">\n",
       "      <th></th>\n",
       "      <th>Unnamed: 0</th>\n",
       "      <th>trade_date</th>\n",
       "      <th>volume</th>\n",
       "      <th>price_usd</th>\n",
       "      <th>price_btc</th>\n",
       "      <th>USD_price_change_1_day</th>\n",
       "      <th>BTC_price_change_1_day</th>\n",
       "      <th>ticker</th>\n",
       "    </tr>\n",
       "  </thead>\n",
       "  <tbody>\n",
       "    <tr>\n",
       "      <th>0</th>\n",
       "      <td>1469</td>\n",
       "      <td>2020-01-21</td>\n",
       "      <td>2.409742e+10</td>\n",
       "      <td>8745.89</td>\n",
       "      <td>1.0</td>\n",
       "      <td>0.010193</td>\n",
       "      <td>0.0</td>\n",
       "      <td>BTC</td>\n",
       "    </tr>\n",
       "    <tr>\n",
       "      <th>1</th>\n",
       "      <td>1470</td>\n",
       "      <td>2020-01-22</td>\n",
       "      <td>2.260020e+10</td>\n",
       "      <td>8680.88</td>\n",
       "      <td>1.0</td>\n",
       "      <td>-0.007433</td>\n",
       "      <td>0.0</td>\n",
       "      <td>BTC</td>\n",
       "    </tr>\n",
       "    <tr>\n",
       "      <th>2</th>\n",
       "      <td>1471</td>\n",
       "      <td>2020-01-24</td>\n",
       "      <td>2.439791e+10</td>\n",
       "      <td>8445.43</td>\n",
       "      <td>1.0</td>\n",
       "      <td>0.004629</td>\n",
       "      <td>0.0</td>\n",
       "      <td>BTC</td>\n",
       "    </tr>\n",
       "    <tr>\n",
       "      <th>3</th>\n",
       "      <td>1472</td>\n",
       "      <td>2020-01-25</td>\n",
       "      <td>1.964733e+10</td>\n",
       "      <td>8367.85</td>\n",
       "      <td>1.0</td>\n",
       "      <td>-0.009186</td>\n",
       "      <td>0.0</td>\n",
       "      <td>BTC</td>\n",
       "    </tr>\n",
       "    <tr>\n",
       "      <th>4</th>\n",
       "      <td>1473</td>\n",
       "      <td>2020-01-26</td>\n",
       "      <td>2.217768e+10</td>\n",
       "      <td>8596.83</td>\n",
       "      <td>1.0</td>\n",
       "      <td>0.027364</td>\n",
       "      <td>0.0</td>\n",
       "      <td>BTC</td>\n",
       "    </tr>\n",
       "  </tbody>\n",
       "</table>\n",
       "</div>"
      ],
      "text/plain": [
       "   Unnamed: 0  trade_date        volume  price_usd  price_btc  \\\n",
       "0        1469  2020-01-21  2.409742e+10    8745.89        1.0   \n",
       "1        1470  2020-01-22  2.260020e+10    8680.88        1.0   \n",
       "2        1471  2020-01-24  2.439791e+10    8445.43        1.0   \n",
       "3        1472  2020-01-25  1.964733e+10    8367.85        1.0   \n",
       "4        1473  2020-01-26  2.217768e+10    8596.83        1.0   \n",
       "\n",
       "   USD_price_change_1_day  BTC_price_change_1_day ticker  \n",
       "0                0.010193                     0.0    BTC  \n",
       "1               -0.007433                     0.0    BTC  \n",
       "2                0.004629                     0.0    BTC  \n",
       "3               -0.009186                     0.0    BTC  \n",
       "4                0.027364                     0.0    BTC  "
      ]
     },
     "execution_count": 6,
     "metadata": {},
     "output_type": "execute_result"
    }
   ],
   "source": [
    "df.head()"
   ]
  },
  {
   "cell_type": "code",
   "execution_count": 7,
   "metadata": {},
   "outputs": [
    {
     "data": {
      "text/plain": [
       "Unnamed: 0                205186\n",
       "trade_date                205186\n",
       "volume                    205186\n",
       "price_usd                 205186\n",
       "price_btc                 205186\n",
       "USD_price_change_1_day    205186\n",
       "BTC_price_change_1_day    205186\n",
       "ticker                    205089\n",
       "dtype: int64"
      ]
     },
     "execution_count": 7,
     "metadata": {},
     "output_type": "execute_result"
    }
   ],
   "source": [
    "df.count()"
   ]
  },
  {
   "cell_type": "code",
   "execution_count": 8,
   "metadata": {},
   "outputs": [],
   "source": [
    "btc_df = df[df['ticker'] == 'BTC']"
   ]
  },
  {
   "cell_type": "code",
   "execution_count": 9,
   "metadata": {},
   "outputs": [
    {
     "data": {
      "text/html": [
       "<div>\n",
       "<style scoped>\n",
       "    .dataframe tbody tr th:only-of-type {\n",
       "        vertical-align: middle;\n",
       "    }\n",
       "\n",
       "    .dataframe tbody tr th {\n",
       "        vertical-align: top;\n",
       "    }\n",
       "\n",
       "    .dataframe thead th {\n",
       "        text-align: right;\n",
       "    }\n",
       "</style>\n",
       "<table border=\"1\" class=\"dataframe\">\n",
       "  <thead>\n",
       "    <tr style=\"text-align: right;\">\n",
       "      <th></th>\n",
       "      <th>Unnamed: 0</th>\n",
       "      <th>trade_date</th>\n",
       "      <th>volume</th>\n",
       "      <th>price_usd</th>\n",
       "      <th>price_btc</th>\n",
       "      <th>USD_price_change_1_day</th>\n",
       "      <th>BTC_price_change_1_day</th>\n",
       "      <th>ticker</th>\n",
       "    </tr>\n",
       "  </thead>\n",
       "  <tbody>\n",
       "    <tr>\n",
       "      <th>0</th>\n",
       "      <td>1469</td>\n",
       "      <td>2020-01-21</td>\n",
       "      <td>2.409742e+10</td>\n",
       "      <td>8745.89</td>\n",
       "      <td>1.0</td>\n",
       "      <td>0.010193</td>\n",
       "      <td>0.0</td>\n",
       "      <td>BTC</td>\n",
       "    </tr>\n",
       "    <tr>\n",
       "      <th>1</th>\n",
       "      <td>1470</td>\n",
       "      <td>2020-01-22</td>\n",
       "      <td>2.260020e+10</td>\n",
       "      <td>8680.88</td>\n",
       "      <td>1.0</td>\n",
       "      <td>-0.007433</td>\n",
       "      <td>0.0</td>\n",
       "      <td>BTC</td>\n",
       "    </tr>\n",
       "    <tr>\n",
       "      <th>2</th>\n",
       "      <td>1471</td>\n",
       "      <td>2020-01-24</td>\n",
       "      <td>2.439791e+10</td>\n",
       "      <td>8445.43</td>\n",
       "      <td>1.0</td>\n",
       "      <td>0.004629</td>\n",
       "      <td>0.0</td>\n",
       "      <td>BTC</td>\n",
       "    </tr>\n",
       "    <tr>\n",
       "      <th>3</th>\n",
       "      <td>1472</td>\n",
       "      <td>2020-01-25</td>\n",
       "      <td>1.964733e+10</td>\n",
       "      <td>8367.85</td>\n",
       "      <td>1.0</td>\n",
       "      <td>-0.009186</td>\n",
       "      <td>0.0</td>\n",
       "      <td>BTC</td>\n",
       "    </tr>\n",
       "    <tr>\n",
       "      <th>4</th>\n",
       "      <td>1473</td>\n",
       "      <td>2020-01-26</td>\n",
       "      <td>2.217768e+10</td>\n",
       "      <td>8596.83</td>\n",
       "      <td>1.0</td>\n",
       "      <td>0.027364</td>\n",
       "      <td>0.0</td>\n",
       "      <td>BTC</td>\n",
       "    </tr>\n",
       "  </tbody>\n",
       "</table>\n",
       "</div>"
      ],
      "text/plain": [
       "   Unnamed: 0  trade_date        volume  price_usd  price_btc  \\\n",
       "0        1469  2020-01-21  2.409742e+10    8745.89        1.0   \n",
       "1        1470  2020-01-22  2.260020e+10    8680.88        1.0   \n",
       "2        1471  2020-01-24  2.439791e+10    8445.43        1.0   \n",
       "3        1472  2020-01-25  1.964733e+10    8367.85        1.0   \n",
       "4        1473  2020-01-26  2.217768e+10    8596.83        1.0   \n",
       "\n",
       "   USD_price_change_1_day  BTC_price_change_1_day ticker  \n",
       "0                0.010193                     0.0    BTC  \n",
       "1               -0.007433                     0.0    BTC  \n",
       "2                0.004629                     0.0    BTC  \n",
       "3               -0.009186                     0.0    BTC  \n",
       "4                0.027364                     0.0    BTC  "
      ]
     },
     "execution_count": 9,
     "metadata": {},
     "output_type": "execute_result"
    }
   ],
   "source": [
    "btc_df.head()"
   ]
  },
  {
   "cell_type": "code",
   "execution_count": 10,
   "metadata": {},
   "outputs": [
    {
     "data": {
      "text/plain": [
       "<matplotlib.axes._subplots.AxesSubplot at 0x120cbbf50>"
      ]
     },
     "execution_count": 10,
     "metadata": {},
     "output_type": "execute_result"
    },
    {
     "data": {
      "image/png": "[encoded data removed]",
      "text/plain": [
       "<Figure size 432x288 with 1 Axes>"
      ]
     },
     "metadata": {
      "needs_background": "light"
     },
     "output_type": "display_data"
    }
   ],
   "source": [
    "btc_df.plot(x='trade_date',y='price_usd',kind='line')"
   ]
  },
  {
   "cell_type": "code",
   "execution_count": 11,
   "metadata": {},
   "outputs": [
    {
     "data": {
      "text/plain": [
       "<matplotlib.axes._subplots.AxesSubplot at 0x12101c950>"
      ]
     },
     "execution_count": 11,
     "metadata": {},
     "output_type": "execute_result"
    },
    {
     "data": {
      "image/png": "[encoded data removed]",
      "text/plain": [
       "<Figure size 432x288 with 1 Axes>"
      ]
     },
     "metadata": {
      "needs_background": "light"
     },
     "output_type": "display_data"
    }
   ],
   "source": [
    "btc_df.plot(x='trade_date',y='volume',kind='line')"
   ]
  },
  {
   "cell_type": "code",
   "execution_count": 12,
   "metadata": {},
   "outputs": [],
   "source": [
    "total_ave_df = df['price_usd'].groupby(df['trade_date']).mean()"
   ]
  },
  {
   "cell_type": "code",
   "execution_count": 13,
   "metadata": {},
   "outputs": [
    {
     "data": {
      "text/plain": [
       "<matplotlib.axes._subplots.AxesSubplot at 0x123142cd0>"
      ]
     },
     "execution_count": 13,
     "metadata": {},
     "output_type": "execute_result"
    },
    {
     "data": {
      "image/png": "[encoded data removed]",
      "text/plain": [
       "<Figure size 432x288 with 1 Axes>"
      ]
     },
     "metadata": {
      "needs_background": "light"
     },
     "output_type": "display_data"
    }
   ],
   "source": [
    "total_ave_df.plot(x='trade_date',y='price_usd',kind='line')"
   ]
  },
  {
   "cell_type": "code",
   "execution_count": 14,
   "metadata": {},
   "outputs": [],
   "source": [
    "total_vol_ave_df = df['volume'].groupby(df['trade_date']).mean()"
   ]
  },
  {
   "cell_type": "code",
   "execution_count": 15,
   "metadata": {},
   "outputs": [
    {
     "data": {
      "text/plain": [
       "<matplotlib.axes._subplots.AxesSubplot at 0x1231c5050>"
      ]
     },
     "execution_count": 15,
     "metadata": {},
     "output_type": "execute_result"
    },
    {
     "data": {
      "image/png": "[encoded data removed]",
      "text/plain": [
       "<Figure size 432x288 with 1 Axes>"
      ]
     },
     "metadata": {
      "needs_background": "light"
     },
     "output_type": "display_data"
    }
   ],
   "source": [
    "total_vol_ave_df.plot(x='trade_date',y='volume',kind='line')"
   ]
  },
  {
   "cell_type": "code",
   "execution_count": 16,
   "metadata": {},
   "outputs": [],
   "source": [
    "case_df = pd.read_csv(\"us.csv\")"
   ]
  },
  {
   "cell_type": "code",
   "execution_count": 17,
   "metadata": {},
   "outputs": [
    {
     "data": {
      "text/html": [
       "<div>\n",
       "<style scoped>\n",
       "    .dataframe tbody tr th:only-of-type {\n",
       "        vertical-align: middle;\n",
       "    }\n",
       "\n",
       "    .dataframe tbody tr th {\n",
       "        vertical-align: top;\n",
       "    }\n",
       "\n",
       "    .dataframe thead th {\n",
       "        text-align: right;\n",
       "    }\n",
       "</style>\n",
       "<table border=\"1\" class=\"dataframe\">\n",
       "  <thead>\n",
       "    <tr style=\"text-align: right;\">\n",
       "      <th></th>\n",
       "      <th>date</th>\n",
       "      <th>cases</th>\n",
       "      <th>deaths</th>\n",
       "    </tr>\n",
       "  </thead>\n",
       "  <tbody>\n",
       "    <tr>\n",
       "      <th>0</th>\n",
       "      <td>2020-01-21</td>\n",
       "      <td>1</td>\n",
       "      <td>0</td>\n",
       "    </tr>\n",
       "    <tr>\n",
       "      <th>1</th>\n",
       "      <td>2020-01-22</td>\n",
       "      <td>1</td>\n",
       "      <td>0</td>\n",
       "    </tr>\n",
       "    <tr>\n",
       "      <th>2</th>\n",
       "      <td>2020-01-23</td>\n",
       "      <td>1</td>\n",
       "      <td>0</td>\n",
       "    </tr>\n",
       "    <tr>\n",
       "      <th>3</th>\n",
       "      <td>2020-01-24</td>\n",
       "      <td>2</td>\n",
       "      <td>0</td>\n",
       "    </tr>\n",
       "    <tr>\n",
       "      <th>4</th>\n",
       "      <td>2020-01-25</td>\n",
       "      <td>3</td>\n",
       "      <td>0</td>\n",
       "    </tr>\n",
       "  </tbody>\n",
       "</table>\n",
       "</div>"
      ],
      "text/plain": [
       "         date  cases  deaths\n",
       "0  2020-01-21      1       0\n",
       "1  2020-01-22      1       0\n",
       "2  2020-01-23      1       0\n",
       "3  2020-01-24      2       0\n",
       "4  2020-01-25      3       0"
      ]
     },
     "execution_count": 17,
     "metadata": {},
     "output_type": "execute_result"
    }
   ],
   "source": [
    "case_df.head()"
   ]
  },
  {
   "cell_type": "code",
   "execution_count": 18,
   "metadata": {},
   "outputs": [
    {
     "data": {
      "text/plain": [
       "<matplotlib.axes._subplots.AxesSubplot at 0x123286310>"
      ]
     },
     "execution_count": 18,
     "metadata": {},
     "output_type": "execute_result"
    },
    {
     "data": {
      "image/png": "[encoded data removed]",
      "text/plain": [
       "<Figure size 432x288 with 1 Axes>"
      ]
     },
     "metadata": {
      "needs_background": "light"
     },
     "output_type": "display_data"
    }
   ],
   "source": [
    "case_df.plot(x='date',y='cases',kind='line')"
   ]
  },
  {
   "cell_type": "code",
   "execution_count": 35,
   "metadata": {},
   "outputs": [],
   "source": [
    "test = df['price_usd'].groupby(df['trade_date']).sum()"
   ]
  },
  {
   "cell_type": "code",
   "execution_count": 29,
   "metadata": {},
   "outputs": [],
   "source": [
    "test2 = df[df['trade_date'] == '2020-01-21']"
   ]
  },
  {
   "cell_type": "code",
   "execution_count": 39,
   "metadata": {},
   "outputs": [
    {
     "data": {
      "text/plain": [
       "trade_date\n",
       "2020-01-21     85380.096548\n",
       "2020-01-22     83542.989649\n",
       "2020-01-24     93209.170207\n",
       "2020-01-25     87262.435475\n",
       "2020-01-26     96092.323594\n",
       "2020-01-27    100198.296705\n",
       "2020-01-28     98677.747367\n",
       "2020-01-29     98254.435225\n",
       "2020-01-30    100423.372621\n",
       "2020-01-31     99912.400461\n",
       "2020-02-01    105311.623067\n",
       "2020-02-02     98898.059446\n",
       "2020-02-03    102564.559145\n",
       "2020-02-04     99025.829615\n",
       "2020-02-05    103778.485726\n",
       "2020-02-06    103928.731266\n",
       "2020-02-07    103376.051957\n",
       "2020-02-08    103684.174397\n",
       "2020-02-09    108552.599347\n",
       "2020-02-10    105857.407945\n",
       "2020-02-11    109636.256044\n",
       "2020-02-12    115646.392569\n",
       "2020-02-13    112491.793265\n",
       "2020-02-14    114456.599922\n",
       "2020-02-15    108700.727766\n",
       "2020-02-16    111089.224505\n",
       "2020-02-17    107143.130893\n",
       "2020-02-18    112438.784554\n",
       "2020-02-19    105418.573723\n",
       "2020-02-20     98323.935745\n",
       "                  ...      \n",
       "2020-03-17     57676.815250\n",
       "2020-03-18     59791.093729\n",
       "2020-03-19     71103.561083\n",
       "2020-03-20     70767.212264\n",
       "2020-03-21     71781.141181\n",
       "2020-03-22     67935.231270\n",
       "2020-03-23     73194.742364\n",
       "2020-03-24     74946.137209\n",
       "2020-03-25     74560.158256\n",
       "2020-03-26     71863.624516\n",
       "2020-03-27     69237.252854\n",
       "2020-03-28     69076.035775\n",
       "2020-03-29     64975.560878\n",
       "2020-03-30     68563.253561\n",
       "2020-03-31     69146.126652\n",
       "2020-04-01     72048.279576\n",
       "2020-04-02     63797.386165\n",
       "2020-04-03     71799.934525\n",
       "2020-04-04     73093.000613\n",
       "2020-04-05     72371.301537\n",
       "2020-04-06     80072.154606\n",
       "2020-04-07     77645.223301\n",
       "2020-04-08     80030.201460\n",
       "2020-04-09     79187.493690\n",
       "2020-04-10     56118.034890\n",
       "2020-04-11     72072.554215\n",
       "2020-04-12     73790.678066\n",
       "2020-04-13     72907.209732\n",
       "2020-04-14     73194.399494\n",
       "2020-04-15     73205.504092\n",
       "Name: price_usd, Length: 85, dtype: float64"
      ]
     },
     "execution_count": 39,
     "metadata": {},
     "output_type": "execute_result"
    }
   ],
   "source": [
    "test"
   ]
  },
  {
   "cell_type": "code",
   "execution_count": 28,
   "metadata": {},
   "outputs": [
    {
     "data": {
      "text/html": [
       "<div>\n",
       "<style scoped>\n",
       "    .dataframe tbody tr th:only-of-type {\n",
       "        vertical-align: middle;\n",
       "    }\n",
       "\n",
       "    .dataframe tbody tr th {\n",
       "        vertical-align: top;\n",
       "    }\n",
       "\n",
       "    .dataframe thead th {\n",
       "        text-align: right;\n",
       "    }\n",
       "</style>\n",
       "<table border=\"1\" class=\"dataframe\">\n",
       "  <thead>\n",
       "    <tr style=\"text-align: right;\">\n",
       "      <th></th>\n",
       "      <th>Unnamed: 0</th>\n",
       "      <th>trade_date</th>\n",
       "      <th>volume</th>\n",
       "      <th>price_usd</th>\n",
       "      <th>price_btc</th>\n",
       "      <th>USD_price_change_1_day</th>\n",
       "      <th>BTC_price_change_1_day</th>\n",
       "      <th>ticker</th>\n",
       "    </tr>\n",
       "  </thead>\n",
       "  <tbody>\n",
       "    <tr>\n",
       "      <th>0</th>\n",
       "      <td>1469</td>\n",
       "      <td>2020-01-21</td>\n",
       "      <td>2.409742e+10</td>\n",
       "      <td>8745.89</td>\n",
       "      <td>1.0</td>\n",
       "      <td>0.010193</td>\n",
       "      <td>0.0</td>\n",
       "      <td>BTC</td>\n",
       "    </tr>\n",
       "    <tr>\n",
       "      <th>1</th>\n",
       "      <td>1470</td>\n",
       "      <td>2020-01-22</td>\n",
       "      <td>2.260020e+10</td>\n",
       "      <td>8680.88</td>\n",
       "      <td>1.0</td>\n",
       "      <td>-0.007433</td>\n",
       "      <td>0.0</td>\n",
       "      <td>BTC</td>\n",
       "    </tr>\n",
       "    <tr>\n",
       "      <th>2</th>\n",
       "      <td>1471</td>\n",
       "      <td>2020-01-24</td>\n",
       "      <td>2.439791e+10</td>\n",
       "      <td>8445.43</td>\n",
       "      <td>1.0</td>\n",
       "      <td>0.004629</td>\n",
       "      <td>0.0</td>\n",
       "      <td>BTC</td>\n",
       "    </tr>\n",
       "    <tr>\n",
       "      <th>3</th>\n",
       "      <td>1472</td>\n",
       "      <td>2020-01-25</td>\n",
       "      <td>1.964733e+10</td>\n",
       "      <td>8367.85</td>\n",
       "      <td>1.0</td>\n",
       "      <td>-0.009186</td>\n",
       "      <td>0.0</td>\n",
       "      <td>BTC</td>\n",
       "    </tr>\n",
       "    <tr>\n",
       "      <th>4</th>\n",
       "      <td>1473</td>\n",
       "      <td>2020-01-26</td>\n",
       "      <td>2.217768e+10</td>\n",
       "      <td>8596.83</td>\n",
       "      <td>1.0</td>\n",
       "      <td>0.027364</td>\n",
       "      <td>0.0</td>\n",
       "      <td>BTC</td>\n",
       "    </tr>\n",
       "  </tbody>\n",
       "</table>\n",
       "</div>"
      ],
      "text/plain": [
       "   Unnamed: 0  trade_date        volume  price_usd  price_btc  \\\n",
       "0        1469  2020-01-21  2.409742e+10    8745.89        1.0   \n",
       "1        1470  2020-01-22  2.260020e+10    8680.88        1.0   \n",
       "2        1471  2020-01-24  2.439791e+10    8445.43        1.0   \n",
       "3        1472  2020-01-25  1.964733e+10    8367.85        1.0   \n",
       "4        1473  2020-01-26  2.217768e+10    8596.83        1.0   \n",
       "\n",
       "   USD_price_change_1_day  BTC_price_change_1_day ticker  \n",
       "0                0.010193                     0.0    BTC  \n",
       "1               -0.007433                     0.0    BTC  \n",
       "2                0.004629                     0.0    BTC  \n",
       "3               -0.009186                     0.0    BTC  \n",
       "4                0.027364                     0.0    BTC  "
      ]
     },
     "execution_count": 28,
     "metadata": {},
     "output_type": "execute_result"
    }
   ],
   "source": [
    "df.head()"
   ]
  },
  {
   "cell_type": "code",
   "execution_count": 40,
   "metadata": {},
   "outputs": [],
   "source": [
    "result = pd.merge(test, btc_df, left_on='trade_date', right_on='trade_date', how='outer')"
   ]
  },
  {
   "cell_type": "code",
   "execution_count": 51,
   "metadata": {},
   "outputs": [],
   "source": [
    "bit_pro_df = pd.DataFrame(result, columns = ['trade_date', 'price_usd_x', 'price_usd_y'])"
   ]
  },
  {
   "cell_type": "code",
   "execution_count": 52,
   "metadata": {},
   "outputs": [
    {
     "data": {
      "text/plain": [
       "trade_date     85\n",
       "price_usd_x    85\n",
       "price_usd_y    85\n",
       "dtype: int64"
      ]
     },
     "execution_count": 52,
     "metadata": {},
     "output_type": "execute_result"
    }
   ],
   "source": [
    "bit_pro_df.count()"
   ]
  },
  {
   "cell_type": "code",
   "execution_count": 54,
   "metadata": {},
   "outputs": [],
   "source": [
    "bit_pro_df['percentage'] = bit_pro_df.apply(lambda x: x['price_usd_y'] / x['price_usd_x'], axis=1)"
   ]
  },
  {
   "cell_type": "code",
   "execution_count": 56,
   "metadata": {},
   "outputs": [
    {
     "data": {
      "text/html": [
       "<div>\n",
       "<style scoped>\n",
       "    .dataframe tbody tr th:only-of-type {\n",
       "        vertical-align: middle;\n",
       "    }\n",
       "\n",
       "    .dataframe tbody tr th {\n",
       "        vertical-align: top;\n",
       "    }\n",
       "\n",
       "    .dataframe thead th {\n",
       "        text-align: right;\n",
       "    }\n",
       "</style>\n",
       "<table border=\"1\" class=\"dataframe\">\n",
       "  <thead>\n",
       "    <tr style=\"text-align: right;\">\n",
       "      <th></th>\n",
       "      <th>trade_date</th>\n",
       "      <th>price_usd_x</th>\n",
       "      <th>price_usd_y</th>\n",
       "      <th>percentage</th>\n",
       "    </tr>\n",
       "  </thead>\n",
       "  <tbody>\n",
       "    <tr>\n",
       "      <th>0</th>\n",
       "      <td>2020-01-21</td>\n",
       "      <td>85380.096548</td>\n",
       "      <td>8745.89</td>\n",
       "      <td>0.102435</td>\n",
       "    </tr>\n",
       "    <tr>\n",
       "      <th>1</th>\n",
       "      <td>2020-01-22</td>\n",
       "      <td>83542.989649</td>\n",
       "      <td>8680.88</td>\n",
       "      <td>0.103909</td>\n",
       "    </tr>\n",
       "    <tr>\n",
       "      <th>2</th>\n",
       "      <td>2020-01-24</td>\n",
       "      <td>93209.170207</td>\n",
       "      <td>8445.43</td>\n",
       "      <td>0.090607</td>\n",
       "    </tr>\n",
       "    <tr>\n",
       "      <th>3</th>\n",
       "      <td>2020-01-25</td>\n",
       "      <td>87262.435475</td>\n",
       "      <td>8367.85</td>\n",
       "      <td>0.095893</td>\n",
       "    </tr>\n",
       "    <tr>\n",
       "      <th>4</th>\n",
       "      <td>2020-01-26</td>\n",
       "      <td>96092.323594</td>\n",
       "      <td>8596.83</td>\n",
       "      <td>0.089464</td>\n",
       "    </tr>\n",
       "  </tbody>\n",
       "</table>\n",
       "</div>"
      ],
      "text/plain": [
       "   trade_date   price_usd_x  price_usd_y  percentage\n",
       "0  2020-01-21  85380.096548      8745.89    0.102435\n",
       "1  2020-01-22  83542.989649      8680.88    0.103909\n",
       "2  2020-01-24  93209.170207      8445.43    0.090607\n",
       "3  2020-01-25  87262.435475      8367.85    0.095893\n",
       "4  2020-01-26  96092.323594      8596.83    0.089464"
      ]
     },
     "execution_count": 56,
     "metadata": {},
     "output_type": "execute_result"
    }
   ],
   "source": [
    "bit_pro_df.head()"
   ]
  },
  {
   "cell_type": "code",
   "execution_count": 57,
   "metadata": {},
   "outputs": [
    {
     "data": {
      "text/plain": [
       "<matplotlib.axes._subplots.AxesSubplot at 0x123863550>"
      ]
     },
     "execution_count": 57,
     "metadata": {},
     "output_type": "execute_result"
    },
    {
     "data": {
      "image/png": "[encoded data removed]",
      "text/plain": [
       "<Figure size 432x288 with 1 Axes>"
      ]
     },
     "metadata": {
      "needs_background": "light"
     },
     "output_type": "display_data"
    }
   ],
   "source": [
    "bit_pro_df.plot(x='trade_date',y='percentage',kind='line')"
   ]
  },
  {
   "cell_type": "code",
   "execution_count": null,
   "metadata": {},
   "outputs": [],
   "source": []
  }
 ],
 "metadata": {
  "kernelspec": {
   "display_name": "Python 2",
   "language": "python",
   "name": "python2"
  },
  "language_info": {
   "codemirror_mode": {
    "name": "ipython",
    "version": 2
   },
   "file_extension": ".py",
   "mimetype": "text/x-python",
   "name": "python",
   "nbconvert_exporter": "python",
   "pygments_lexer": "ipython2",
   "version": "2.7.16"
  }
 },
 "nbformat": 4,
 "nbformat_minor": 2
}
